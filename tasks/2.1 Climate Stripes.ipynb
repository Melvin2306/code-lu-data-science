{
 "cells": [
  {
   "cell_type": "code",
   "execution_count": 23,
   "id": "6b6c89bd",
   "metadata": {},
   "outputs": [],
   "source": [
    "import pandas as pd\n",
    "import seaborn as sns\n",
    "import matplotlib.pyplot as plt\n",
    "import os"
   ]
  },
  {
   "cell_type": "markdown",
   "id": "f1f19de8",
   "metadata": {},
   "source": [
    "### Step 1: Get climate data from ECAD\n",
    "go to www.ecad.eu\n",
    "go to \"Daily data\"\n",
    "click on \"Custom query (ASCII)\"\n",
    "set fields as in the table:\n",
    "field\tvalue\n",
    "Type of series\tblend\n",
    "Country\tyour country\n",
    "Location\tyour city or area\n",
    "Element\tMean temperature\n",
    "click on \"Next\"\n",
    "click on \"Download\" and download the data\n",
    "Important: The ECAD data is made available for public use. However, do not redistribute the raw data (on your GitHub profile or elsewhere)"
   ]
  },
  {
   "cell_type": "markdown",
   "id": "bf675e4c",
   "metadata": {},
   "source": [
    "### Step 2: Read the data into a DataFrame\n",
    "Reading the ECAD data into pandas is a bit trickier than a standard CSV file. You will need to inspect the file in a text editor (not Excel). Pay attention to the following:\n",
    "\n",
    "what is the column separator?\n",
    "are there any headers?\n",
    "how many lines contain comments before the real data starts?\n",
    "Look up the parameters of pd.read_csv(). They are sufficient to read the file."
   ]
  },
  {
   "cell_type": "markdown",
   "id": "e7e8b187",
   "metadata": {},
   "source": [
    "First 20 rows are introduction text and need to be skipped with 'skiprows'"
   ]
  },
  {
   "cell_type": "code",
   "execution_count": 2,
   "id": "08973bc0",
   "metadata": {},
   "outputs": [],
   "source": [
    "df = pd.read_csv('/Users/melvinrinkleff/dev/code/22_fall_data_science/ECA_blended_custom/TG_STAID002759.txt',\n",
    "              names=['SOUID', 'DATE', 'TG', 'Q_TG'], skiprows=20)"
   ]
  },
  {
   "cell_type": "code",
   "execution_count": 3,
   "id": "9af09301",
   "metadata": {},
   "outputs": [
    {
     "data": {
      "text/html": [
       "<div>\n",
       "<style scoped>\n",
       "    .dataframe tbody tr th:only-of-type {\n",
       "        vertical-align: middle;\n",
       "    }\n",
       "\n",
       "    .dataframe tbody tr th {\n",
       "        vertical-align: top;\n",
       "    }\n",
       "\n",
       "    .dataframe thead th {\n",
       "        text-align: right;\n",
       "    }\n",
       "</style>\n",
       "<table border=\"1\" class=\"dataframe\">\n",
       "  <thead>\n",
       "    <tr style=\"text-align: right;\">\n",
       "      <th></th>\n",
       "      <th>SOUID</th>\n",
       "      <th>DATE</th>\n",
       "      <th>TG</th>\n",
       "      <th>Q_TG</th>\n",
       "    </tr>\n",
       "  </thead>\n",
       "  <tbody>\n",
       "    <tr>\n",
       "      <th>0</th>\n",
       "      <td>127488</td>\n",
       "      <td>18760101</td>\n",
       "      <td>22</td>\n",
       "      <td>0</td>\n",
       "    </tr>\n",
       "    <tr>\n",
       "      <th>1</th>\n",
       "      <td>127488</td>\n",
       "      <td>18760102</td>\n",
       "      <td>25</td>\n",
       "      <td>0</td>\n",
       "    </tr>\n",
       "    <tr>\n",
       "      <th>2</th>\n",
       "      <td>127488</td>\n",
       "      <td>18760103</td>\n",
       "      <td>3</td>\n",
       "      <td>0</td>\n",
       "    </tr>\n",
       "    <tr>\n",
       "      <th>3</th>\n",
       "      <td>127488</td>\n",
       "      <td>18760104</td>\n",
       "      <td>-58</td>\n",
       "      <td>0</td>\n",
       "    </tr>\n",
       "    <tr>\n",
       "      <th>4</th>\n",
       "      <td>127488</td>\n",
       "      <td>18760105</td>\n",
       "      <td>-98</td>\n",
       "      <td>0</td>\n",
       "    </tr>\n",
       "  </tbody>\n",
       "</table>\n",
       "</div>"
      ],
      "text/plain": [
       "    SOUID      DATE  TG  Q_TG\n",
       "0  127488  18760101  22     0\n",
       "1  127488  18760102  25     0\n",
       "2  127488  18760103   3     0\n",
       "3  127488  18760104 -58     0\n",
       "4  127488  18760105 -98     0"
      ]
     },
     "execution_count": 3,
     "metadata": {},
     "output_type": "execute_result"
    }
   ],
   "source": [
    "df.head()"
   ]
  },
  {
   "cell_type": "markdown",
   "id": "efa38989",
   "metadata": {},
   "source": [
    "### Step 3: Data Wrangling\n",
    "The TG column contains the temperature measured in 0.1 Celsius degrees. This was probably established decades ago when disk space and memory were more expensive (integers take less space).\n",
    "\n",
    "Create a new column by dividing the temperature by 10.\n",
    "Plot the raw temperature data as a line plot."
   ]
  },
  {
   "cell_type": "code",
   "execution_count": 4,
   "id": "f499bbfa",
   "metadata": {},
   "outputs": [],
   "source": [
    "df['Temperature'] = df.apply(lambda row: row.TG/10, axis=1)"
   ]
  },
  {
   "cell_type": "code",
   "execution_count": 5,
   "id": "ffa241c1",
   "metadata": {},
   "outputs": [
    {
     "data": {
      "text/html": [
       "<div>\n",
       "<style scoped>\n",
       "    .dataframe tbody tr th:only-of-type {\n",
       "        vertical-align: middle;\n",
       "    }\n",
       "\n",
       "    .dataframe tbody tr th {\n",
       "        vertical-align: top;\n",
       "    }\n",
       "\n",
       "    .dataframe thead th {\n",
       "        text-align: right;\n",
       "    }\n",
       "</style>\n",
       "<table border=\"1\" class=\"dataframe\">\n",
       "  <thead>\n",
       "    <tr style=\"text-align: right;\">\n",
       "      <th></th>\n",
       "      <th>SOUID</th>\n",
       "      <th>DATE</th>\n",
       "      <th>TG</th>\n",
       "      <th>Q_TG</th>\n",
       "      <th>Temperature</th>\n",
       "    </tr>\n",
       "  </thead>\n",
       "  <tbody>\n",
       "    <tr>\n",
       "      <th>0</th>\n",
       "      <td>127488</td>\n",
       "      <td>18760101</td>\n",
       "      <td>22</td>\n",
       "      <td>0</td>\n",
       "      <td>2.2</td>\n",
       "    </tr>\n",
       "    <tr>\n",
       "      <th>1</th>\n",
       "      <td>127488</td>\n",
       "      <td>18760102</td>\n",
       "      <td>25</td>\n",
       "      <td>0</td>\n",
       "      <td>2.5</td>\n",
       "    </tr>\n",
       "    <tr>\n",
       "      <th>2</th>\n",
       "      <td>127488</td>\n",
       "      <td>18760103</td>\n",
       "      <td>3</td>\n",
       "      <td>0</td>\n",
       "      <td>0.3</td>\n",
       "    </tr>\n",
       "    <tr>\n",
       "      <th>3</th>\n",
       "      <td>127488</td>\n",
       "      <td>18760104</td>\n",
       "      <td>-58</td>\n",
       "      <td>0</td>\n",
       "      <td>-5.8</td>\n",
       "    </tr>\n",
       "    <tr>\n",
       "      <th>4</th>\n",
       "      <td>127488</td>\n",
       "      <td>18760105</td>\n",
       "      <td>-98</td>\n",
       "      <td>0</td>\n",
       "      <td>-9.8</td>\n",
       "    </tr>\n",
       "  </tbody>\n",
       "</table>\n",
       "</div>"
      ],
      "text/plain": [
       "    SOUID      DATE  TG  Q_TG  Temperature\n",
       "0  127488  18760101  22     0          2.2\n",
       "1  127488  18760102  25     0          2.5\n",
       "2  127488  18760103   3     0          0.3\n",
       "3  127488  18760104 -58     0         -5.8\n",
       "4  127488  18760105 -98     0         -9.8"
      ]
     },
     "execution_count": 5,
     "metadata": {},
     "output_type": "execute_result"
    }
   ],
   "source": [
    "df.head()"
   ]
  },
  {
   "cell_type": "code",
   "execution_count": 6,
   "id": "501de3bf",
   "metadata": {},
   "outputs": [
    {
     "data": {
      "text/plain": [
       "<AxesSubplot:xlabel='DATE'>"
      ]
     },
     "execution_count": 6,
     "metadata": {},
     "output_type": "execute_result"
    },
    {
     "data": {
      "image/png": "[encoded data removed]",
      "text/plain": [
       "<Figure size 432x288 with 1 Axes>"
      ]
     },
     "metadata": {
      "needs_background": "light"
     },
     "output_type": "display_data"
    }
   ],
   "source": [
    "df.plot('DATE', 'Temperature')"
   ]
  },
  {
   "cell_type": "markdown",
   "id": "21c24158",
   "metadata": {},
   "source": [
    "### Step 4: Time Axis\n",
    "The DATE column contains timestamps in the YYYYMMDD format. You need to convert these to pandas timestamps.\n",
    "\n",
    "First, convert the DATE column to a string data type.\n",
    "\n",
    "Second, use the following expression to slice off year, month and day:\n",
    "\n",
    "df['year'] = df[col].str[x:y]\n",
    "Put the elements into separate columns. Then, create a new date column via string concatenation:\n",
    "\n",
    "df[col1] + '-' + df[col2]\n",
    "The final date column should have the format YYYY-MM-DD. Now you can convert the strings with dates into a timestamp index with:\n",
    "\n",
    "df.set_index(pd.to_datetime(date_series))\n",
    "Plot the temperature as a line plot again. Now, the x-axis should look much better."
   ]
  },
  {
   "cell_type": "code",
   "execution_count": 7,
   "id": "22731fd1",
   "metadata": {},
   "outputs": [],
   "source": [
    "df['DATE'] = df['DATE'].astype(str)"
   ]
  },
  {
   "cell_type": "code",
   "execution_count": 8,
   "id": "11468c95",
   "metadata": {},
   "outputs": [],
   "source": [
    "df['year'] = df['DATE'].str[0:4]\n",
    "df['month'] = df['DATE'].str[4:6]\n",
    "df['day'] = df['DATE'].str[6:]"
   ]
  },
  {
   "cell_type": "code",
   "execution_count": 9,
   "id": "592b5b90",
   "metadata": {},
   "outputs": [
    {
     "data": {
      "text/html": [
       "<div>\n",
       "<style scoped>\n",
       "    .dataframe tbody tr th:only-of-type {\n",
       "        vertical-align: middle;\n",
       "    }\n",
       "\n",
       "    .dataframe tbody tr th {\n",
       "        vertical-align: top;\n",
       "    }\n",
       "\n",
       "    .dataframe thead th {\n",
       "        text-align: right;\n",
       "    }\n",
       "</style>\n",
       "<table border=\"1\" class=\"dataframe\">\n",
       "  <thead>\n",
       "    <tr style=\"text-align: right;\">\n",
       "      <th></th>\n",
       "      <th>SOUID</th>\n",
       "      <th>DATE</th>\n",
       "      <th>TG</th>\n",
       "      <th>Q_TG</th>\n",
       "      <th>Temperature</th>\n",
       "      <th>year</th>\n",
       "      <th>month</th>\n",
       "      <th>day</th>\n",
       "    </tr>\n",
       "  </thead>\n",
       "  <tbody>\n",
       "    <tr>\n",
       "      <th>0</th>\n",
       "      <td>127488</td>\n",
       "      <td>18760101</td>\n",
       "      <td>22</td>\n",
       "      <td>0</td>\n",
       "      <td>2.2</td>\n",
       "      <td>1876</td>\n",
       "      <td>01</td>\n",
       "      <td>01</td>\n",
       "    </tr>\n",
       "    <tr>\n",
       "      <th>1</th>\n",
       "      <td>127488</td>\n",
       "      <td>18760102</td>\n",
       "      <td>25</td>\n",
       "      <td>0</td>\n",
       "      <td>2.5</td>\n",
       "      <td>1876</td>\n",
       "      <td>01</td>\n",
       "      <td>02</td>\n",
       "    </tr>\n",
       "    <tr>\n",
       "      <th>2</th>\n",
       "      <td>127488</td>\n",
       "      <td>18760103</td>\n",
       "      <td>3</td>\n",
       "      <td>0</td>\n",
       "      <td>0.3</td>\n",
       "      <td>1876</td>\n",
       "      <td>01</td>\n",
       "      <td>03</td>\n",
       "    </tr>\n",
       "    <tr>\n",
       "      <th>3</th>\n",
       "      <td>127488</td>\n",
       "      <td>18760104</td>\n",
       "      <td>-58</td>\n",
       "      <td>0</td>\n",
       "      <td>-5.8</td>\n",
       "      <td>1876</td>\n",
       "      <td>01</td>\n",
       "      <td>04</td>\n",
       "    </tr>\n",
       "    <tr>\n",
       "      <th>4</th>\n",
       "      <td>127488</td>\n",
       "      <td>18760105</td>\n",
       "      <td>-98</td>\n",
       "      <td>0</td>\n",
       "      <td>-9.8</td>\n",
       "      <td>1876</td>\n",
       "      <td>01</td>\n",
       "      <td>05</td>\n",
       "    </tr>\n",
       "  </tbody>\n",
       "</table>\n",
       "</div>"
      ],
      "text/plain": [
       "    SOUID      DATE  TG  Q_TG  Temperature  year month day\n",
       "0  127488  18760101  22     0          2.2  1876    01  01\n",
       "1  127488  18760102  25     0          2.5  1876    01  02\n",
       "2  127488  18760103   3     0          0.3  1876    01  03\n",
       "3  127488  18760104 -58     0         -5.8  1876    01  04\n",
       "4  127488  18760105 -98     0         -9.8  1876    01  05"
      ]
     },
     "execution_count": 9,
     "metadata": {},
     "output_type": "execute_result"
    }
   ],
   "source": [
    "df.head()"
   ]
  },
  {
   "cell_type": "code",
   "execution_count": 10,
   "id": "77c20ed2",
   "metadata": {},
   "outputs": [],
   "source": [
    "df['Date'] = df['year'] + '-' + df['month'] + '-' + df['day']"
   ]
  },
  {
   "cell_type": "code",
   "execution_count": 11,
   "id": "88c38739",
   "metadata": {
    "scrolled": true
   },
   "outputs": [
    {
     "data": {
      "text/html": [
       "<div>\n",
       "<style scoped>\n",
       "    .dataframe tbody tr th:only-of-type {\n",
       "        vertical-align: middle;\n",
       "    }\n",
       "\n",
       "    .dataframe tbody tr th {\n",
       "        vertical-align: top;\n",
       "    }\n",
       "\n",
       "    .dataframe thead th {\n",
       "        text-align: right;\n",
       "    }\n",
       "</style>\n",
       "<table border=\"1\" class=\"dataframe\">\n",
       "  <thead>\n",
       "    <tr style=\"text-align: right;\">\n",
       "      <th></th>\n",
       "      <th>SOUID</th>\n",
       "      <th>DATE</th>\n",
       "      <th>TG</th>\n",
       "      <th>Q_TG</th>\n",
       "      <th>Temperature</th>\n",
       "      <th>year</th>\n",
       "      <th>month</th>\n",
       "      <th>day</th>\n",
       "      <th>Date</th>\n",
       "    </tr>\n",
       "  </thead>\n",
       "  <tbody>\n",
       "    <tr>\n",
       "      <th>0</th>\n",
       "      <td>127488</td>\n",
       "      <td>18760101</td>\n",
       "      <td>22</td>\n",
       "      <td>0</td>\n",
       "      <td>2.2</td>\n",
       "      <td>1876</td>\n",
       "      <td>01</td>\n",
       "      <td>01</td>\n",
       "      <td>1876-01-01</td>\n",
       "    </tr>\n",
       "    <tr>\n",
       "      <th>1</th>\n",
       "      <td>127488</td>\n",
       "      <td>18760102</td>\n",
       "      <td>25</td>\n",
       "      <td>0</td>\n",
       "      <td>2.5</td>\n",
       "      <td>1876</td>\n",
       "      <td>01</td>\n",
       "      <td>02</td>\n",
       "      <td>1876-01-02</td>\n",
       "    </tr>\n",
       "    <tr>\n",
       "      <th>2</th>\n",
       "      <td>127488</td>\n",
       "      <td>18760103</td>\n",
       "      <td>3</td>\n",
       "      <td>0</td>\n",
       "      <td>0.3</td>\n",
       "      <td>1876</td>\n",
       "      <td>01</td>\n",
       "      <td>03</td>\n",
       "      <td>1876-01-03</td>\n",
       "    </tr>\n",
       "    <tr>\n",
       "      <th>3</th>\n",
       "      <td>127488</td>\n",
       "      <td>18760104</td>\n",
       "      <td>-58</td>\n",
       "      <td>0</td>\n",
       "      <td>-5.8</td>\n",
       "      <td>1876</td>\n",
       "      <td>01</td>\n",
       "      <td>04</td>\n",
       "      <td>1876-01-04</td>\n",
       "    </tr>\n",
       "    <tr>\n",
       "      <th>4</th>\n",
       "      <td>127488</td>\n",
       "      <td>18760105</td>\n",
       "      <td>-98</td>\n",
       "      <td>0</td>\n",
       "      <td>-9.8</td>\n",
       "      <td>1876</td>\n",
       "      <td>01</td>\n",
       "      <td>05</td>\n",
       "      <td>1876-01-05</td>\n",
       "    </tr>\n",
       "  </tbody>\n",
       "</table>\n",
       "</div>"
      ],
      "text/plain": [
       "    SOUID      DATE  TG  Q_TG  Temperature  year month day        Date\n",
       "0  127488  18760101  22     0          2.2  1876    01  01  1876-01-01\n",
       "1  127488  18760102  25     0          2.5  1876    01  02  1876-01-02\n",
       "2  127488  18760103   3     0          0.3  1876    01  03  1876-01-03\n",
       "3  127488  18760104 -58     0         -5.8  1876    01  04  1876-01-04\n",
       "4  127488  18760105 -98     0         -9.8  1876    01  05  1876-01-05"
      ]
     },
     "execution_count": 11,
     "metadata": {},
     "output_type": "execute_result"
    }
   ],
   "source": [
    "df.head()"
   ]
  },
  {
   "cell_type": "code",
   "execution_count": 12,
   "id": "d56137b6",
   "metadata": {},
   "outputs": [],
   "source": [
    "df['Date'] = pd.to_datetime(df['Date'])"
   ]
  },
  {
   "cell_type": "code",
   "execution_count": 13,
   "id": "06e4f262",
   "metadata": {},
   "outputs": [],
   "source": [
    "df = df.set_index('Date', drop=True)"
   ]
  },
  {
   "cell_type": "code",
   "execution_count": 14,
   "id": "05381026",
   "metadata": {},
   "outputs": [
    {
     "data": {
      "text/html": [
       "<div>\n",
       "<style scoped>\n",
       "    .dataframe tbody tr th:only-of-type {\n",
       "        vertical-align: middle;\n",
       "    }\n",
       "\n",
       "    .dataframe tbody tr th {\n",
       "        vertical-align: top;\n",
       "    }\n",
       "\n",
       "    .dataframe thead th {\n",
       "        text-align: right;\n",
       "    }\n",
       "</style>\n",
       "<table border=\"1\" class=\"dataframe\">\n",
       "  <thead>\n",
       "    <tr style=\"text-align: right;\">\n",
       "      <th></th>\n",
       "      <th>SOUID</th>\n",
       "      <th>DATE</th>\n",
       "      <th>TG</th>\n",
       "      <th>Q_TG</th>\n",
       "      <th>Temperature</th>\n",
       "      <th>year</th>\n",
       "      <th>month</th>\n",
       "      <th>day</th>\n",
       "    </tr>\n",
       "    <tr>\n",
       "      <th>Date</th>\n",
       "      <th></th>\n",
       "      <th></th>\n",
       "      <th></th>\n",
       "      <th></th>\n",
       "      <th></th>\n",
       "      <th></th>\n",
       "      <th></th>\n",
       "      <th></th>\n",
       "    </tr>\n",
       "  </thead>\n",
       "  <tbody>\n",
       "    <tr>\n",
       "      <th>1876-01-01</th>\n",
       "      <td>127488</td>\n",
       "      <td>18760101</td>\n",
       "      <td>22</td>\n",
       "      <td>0</td>\n",
       "      <td>2.2</td>\n",
       "      <td>1876</td>\n",
       "      <td>01</td>\n",
       "      <td>01</td>\n",
       "    </tr>\n",
       "    <tr>\n",
       "      <th>1876-01-02</th>\n",
       "      <td>127488</td>\n",
       "      <td>18760102</td>\n",
       "      <td>25</td>\n",
       "      <td>0</td>\n",
       "      <td>2.5</td>\n",
       "      <td>1876</td>\n",
       "      <td>01</td>\n",
       "      <td>02</td>\n",
       "    </tr>\n",
       "    <tr>\n",
       "      <th>1876-01-03</th>\n",
       "      <td>127488</td>\n",
       "      <td>18760103</td>\n",
       "      <td>3</td>\n",
       "      <td>0</td>\n",
       "      <td>0.3</td>\n",
       "      <td>1876</td>\n",
       "      <td>01</td>\n",
       "      <td>03</td>\n",
       "    </tr>\n",
       "    <tr>\n",
       "      <th>1876-01-04</th>\n",
       "      <td>127488</td>\n",
       "      <td>18760104</td>\n",
       "      <td>-58</td>\n",
       "      <td>0</td>\n",
       "      <td>-5.8</td>\n",
       "      <td>1876</td>\n",
       "      <td>01</td>\n",
       "      <td>04</td>\n",
       "    </tr>\n",
       "    <tr>\n",
       "      <th>1876-01-05</th>\n",
       "      <td>127488</td>\n",
       "      <td>18760105</td>\n",
       "      <td>-98</td>\n",
       "      <td>0</td>\n",
       "      <td>-9.8</td>\n",
       "      <td>1876</td>\n",
       "      <td>01</td>\n",
       "      <td>05</td>\n",
       "    </tr>\n",
       "  </tbody>\n",
       "</table>\n",
       "</div>"
      ],
      "text/plain": [
       "             SOUID      DATE  TG  Q_TG  Temperature  year month day\n",
       "Date                                                               \n",
       "1876-01-01  127488  18760101  22     0          2.2  1876    01  01\n",
       "1876-01-02  127488  18760102  25     0          2.5  1876    01  02\n",
       "1876-01-03  127488  18760103   3     0          0.3  1876    01  03\n",
       "1876-01-04  127488  18760104 -58     0         -5.8  1876    01  04\n",
       "1876-01-05  127488  18760105 -98     0         -9.8  1876    01  05"
      ]
     },
     "execution_count": 14,
     "metadata": {},
     "output_type": "execute_result"
    }
   ],
   "source": [
    "df.head()"
   ]
  },
  {
   "cell_type": "code",
   "execution_count": 15,
   "id": "45fce230",
   "metadata": {},
   "outputs": [],
   "source": [
    "del df['TG']\n",
    "del df['DATE']\n",
    "del df['year']\n",
    "del df['month']\n",
    "del df['day']\n",
    "del df['SOUID']"
   ]
  },
  {
   "cell_type": "code",
   "execution_count": 16,
   "id": "f0200275",
   "metadata": {},
   "outputs": [
    {
     "data": {
      "text/html": [
       "<div>\n",
       "<style scoped>\n",
       "    .dataframe tbody tr th:only-of-type {\n",
       "        vertical-align: middle;\n",
       "    }\n",
       "\n",
       "    .dataframe tbody tr th {\n",
       "        vertical-align: top;\n",
       "    }\n",
       "\n",
       "    .dataframe thead th {\n",
       "        text-align: right;\n",
       "    }\n",
       "</style>\n",
       "<table border=\"1\" class=\"dataframe\">\n",
       "  <thead>\n",
       "    <tr style=\"text-align: right;\">\n",
       "      <th></th>\n",
       "      <th>Q_TG</th>\n",
       "      <th>Temperature</th>\n",
       "    </tr>\n",
       "    <tr>\n",
       "      <th>Date</th>\n",
       "      <th></th>\n",
       "      <th></th>\n",
       "    </tr>\n",
       "  </thead>\n",
       "  <tbody>\n",
       "    <tr>\n",
       "      <th>1876-01-01</th>\n",
       "      <td>0</td>\n",
       "      <td>2.2</td>\n",
       "    </tr>\n",
       "    <tr>\n",
       "      <th>1876-01-02</th>\n",
       "      <td>0</td>\n",
       "      <td>2.5</td>\n",
       "    </tr>\n",
       "    <tr>\n",
       "      <th>1876-01-03</th>\n",
       "      <td>0</td>\n",
       "      <td>0.3</td>\n",
       "    </tr>\n",
       "    <tr>\n",
       "      <th>1876-01-04</th>\n",
       "      <td>0</td>\n",
       "      <td>-5.8</td>\n",
       "    </tr>\n",
       "    <tr>\n",
       "      <th>1876-01-05</th>\n",
       "      <td>0</td>\n",
       "      <td>-9.8</td>\n",
       "    </tr>\n",
       "  </tbody>\n",
       "</table>\n",
       "</div>"
      ],
      "text/plain": [
       "            Q_TG  Temperature\n",
       "Date                         \n",
       "1876-01-01     0          2.2\n",
       "1876-01-02     0          2.5\n",
       "1876-01-03     0          0.3\n",
       "1876-01-04     0         -5.8\n",
       "1876-01-05     0         -9.8"
      ]
     },
     "execution_count": 16,
     "metadata": {},
     "output_type": "execute_result"
    }
   ],
   "source": [
    "df.head()"
   ]
  },
  {
   "cell_type": "code",
   "execution_count": 28,
   "id": "4a510f66",
   "metadata": {},
   "outputs": [
    {
     "data": {
      "text/plain": [
       "<AxesSubplot:xlabel='Date'>"
      ]
     },
     "execution_count": 28,
     "metadata": {},
     "output_type": "execute_result"
    },
    {
     "data": {
      "image/png": "[encoded data removed]",
      "text/plain": [
       "<Figure size 432x288 with 1 Axes>"
      ]
     },
     "metadata": {
      "needs_background": "light"
     },
     "output_type": "display_data"
    }
   ],
   "source": [
    "df.plot(y='Temperature')"
   ]
  },
  {
   "cell_type": "code",
   "execution_count": 40,
   "id": "dfb6dffe",
   "metadata": {},
   "outputs": [],
   "source": [
    "df_mean = df['Temperature'].mean()\n",
    "df = df['Temperature'].replace(-999.9, df_mean)"
   ]
  },
  {
   "cell_type": "code",
   "execution_count": 41,
   "id": "946b3f05",
   "metadata": {},
   "outputs": [
    {
     "data": {
      "text/plain": [
       "<AxesSubplot:xlabel='Date'>"
      ]
     },
     "execution_count": 41,
     "metadata": {},
     "output_type": "execute_result"
    },
    {
     "data": {
      "image/png": "[encoded data removed]",
      "text/plain": [
       "<Figure size 432x288 with 1 Axes>"
      ]
     },
     "metadata": {
      "needs_background": "light"
     },
     "output_type": "display_data"
    }
   ],
   "source": [
    "df.plot(y='Temperature')"
   ]
  },
  {
   "cell_type": "code",
   "execution_count": null,
   "id": "ca21eddb",
   "metadata": {},
   "outputs": [],
   "source": []
  }
 ],
 "metadata": {
  "kernelspec": {
   "display_name": "Python 3 (ipykernel)",
   "language": "python",
   "name": "python3"
  },
  "language_info": {
   "codemirror_mode": {
    "name": "ipython",
    "version": 3
   },
   "file_extension": ".py",
   "mimetype": "text/x-python",
   "name": "python",
   "nbconvert_exporter": "python",
   "pygments_lexer": "ipython3",
   "version": "3.9.12"
  }
 },
 "nbformat": 4,
 "nbformat_minor": 5
}
