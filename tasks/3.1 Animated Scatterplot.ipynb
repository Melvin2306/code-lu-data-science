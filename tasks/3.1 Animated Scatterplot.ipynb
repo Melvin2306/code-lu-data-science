{
 "cells": [
  {
   "cell_type": "code",
   "execution_count": 32,
   "metadata": {},
   "outputs": [],
   "source": [
    "import pandas as pd\n",
    "import seaborn as sns\n",
    "import matplotlib.pyplot as plt\n",
    "import os"
   ]
  },
  {
   "cell_type": "markdown",
   "metadata": {},
   "source": [
    "Step 1: Download the Data\n",
    "You will use data by the Gapminder Foundation. Go to www.gapminder.org/data and download CSV files on:\n",
    "\n",
    "life expectancy\n",
    "fertility rate, total\n",
    "population"
   ]
  },
  {
   "cell_type": "markdown",
   "metadata": {},
   "source": [
    "Step 2\n",
    "Load all three tables. Make sure the data is correct:\n",
    "\n",
    "inspect the dimensions you should have 200+ rows and 60+ columns.\n",
    "make sure the country names are in the row index\n",
    "make sure the years are in the column index\n",
    "use df.columns to check whether the column index consists of strings or integers (both are ok but you need to know)\n"
   ]
  },
  {
   "cell_type": "code",
   "execution_count": 33,
   "metadata": {},
   "outputs": [],
   "source": [
    "### Task 1 Importing the data\n",
    "df_pop = pd.read_csv('/Users/melvinrinkleff/dev/code/22_fall_data_science/code-lu-data-science/tasks/population_total.csv', index_col=0)\n",
    "df_life_exp = pd.read_csv('/Users/melvinrinkleff/dev/code/22_fall_data_science/code-lu-data-science/tasks/life_expectancy_years.csv', index_col=0)\n",
    "df_fert = pd.read_csv('/Users/melvinrinkleff/dev/code/22_fall_data_science/code-lu-data-science/tasks/children_per_woman_total_fertility.csv', index_col=0)\n",
    "\n",
    "df_pop = df_pop.transpose()\n",
    "df_life_exp = df_life_exp.transpose()\n",
    "df_fert = df_fert.transpose()\n",
    "\n"
   ]
  },
  {
   "cell_type": "markdown",
   "metadata": {},
   "source": [
    "Step 3\n",
    "Choose fertility and life expectancy for the year 2015 and put them into a single table."
   ]
  },
  {
   "cell_type": "code",
   "execution_count": 34,
   "metadata": {},
   "outputs": [
    {
     "data": {
      "text/html": [
       "<div>\n",
       "<style scoped>\n",
       "    .dataframe tbody tr th:only-of-type {\n",
       "        vertical-align: middle;\n",
       "    }\n",
       "\n",
       "    .dataframe tbody tr th {\n",
       "        vertical-align: top;\n",
       "    }\n",
       "\n",
       "    .dataframe thead th {\n",
       "        text-align: right;\n",
       "    }\n",
       "</style>\n",
       "<table border=\"1\" class=\"dataframe\">\n",
       "  <thead>\n",
       "    <tr style=\"text-align: right;\">\n",
       "      <th></th>\n",
       "      <th>fertility</th>\n",
       "      <th>life_exp</th>\n",
       "    </tr>\n",
       "    <tr>\n",
       "      <th>country</th>\n",
       "      <th></th>\n",
       "      <th></th>\n",
       "    </tr>\n",
       "  </thead>\n",
       "  <tbody>\n",
       "    <tr>\n",
       "      <th>Afghanistan</th>\n",
       "      <td>4.80</td>\n",
       "      <td>61.9</td>\n",
       "    </tr>\n",
       "    <tr>\n",
       "      <th>Angola</th>\n",
       "      <td>5.77</td>\n",
       "      <td>63.5</td>\n",
       "    </tr>\n",
       "    <tr>\n",
       "      <th>Albania</th>\n",
       "      <td>1.71</td>\n",
       "      <td>78.1</td>\n",
       "    </tr>\n",
       "    <tr>\n",
       "      <th>United Arab Emirates</th>\n",
       "      <td>1.77</td>\n",
       "      <td>73.2</td>\n",
       "    </tr>\n",
       "    <tr>\n",
       "      <th>Argentina</th>\n",
       "      <td>2.31</td>\n",
       "      <td>76.5</td>\n",
       "    </tr>\n",
       "    <tr>\n",
       "      <th>...</th>\n",
       "      <td>...</td>\n",
       "      <td>...</td>\n",
       "    </tr>\n",
       "    <tr>\n",
       "      <th>Samoa</th>\n",
       "      <td>4.03</td>\n",
       "      <td>70.1</td>\n",
       "    </tr>\n",
       "    <tr>\n",
       "      <th>Yemen</th>\n",
       "      <td>4.10</td>\n",
       "      <td>68.2</td>\n",
       "    </tr>\n",
       "    <tr>\n",
       "      <th>South Africa</th>\n",
       "      <td>2.49</td>\n",
       "      <td>62.3</td>\n",
       "    </tr>\n",
       "    <tr>\n",
       "      <th>Zambia</th>\n",
       "      <td>5.04</td>\n",
       "      <td>60.8</td>\n",
       "    </tr>\n",
       "    <tr>\n",
       "      <th>Zimbabwe</th>\n",
       "      <td>3.84</td>\n",
       "      <td>58.6</td>\n",
       "    </tr>\n",
       "  </tbody>\n",
       "</table>\n",
       "<p>186 rows × 2 columns</p>\n",
       "</div>"
      ],
      "text/plain": [
       "                      fertility  life_exp\n",
       "country                                  \n",
       "Afghanistan                4.80      61.9\n",
       "Angola                     5.77      63.5\n",
       "Albania                    1.71      78.1\n",
       "United Arab Emirates       1.77      73.2\n",
       "Argentina                  2.31      76.5\n",
       "...                         ...       ...\n",
       "Samoa                      4.03      70.1\n",
       "Yemen                      4.10      68.2\n",
       "South Africa               2.49      62.3\n",
       "Zambia                     5.04      60.8\n",
       "Zimbabwe                   3.84      58.6\n",
       "\n",
       "[186 rows x 2 columns]"
      ]
     },
     "execution_count": 34,
     "metadata": {},
     "output_type": "execute_result"
    }
   ],
   "source": [
    "### Task 2: Fertility and life expectancy in 2015\n",
    "df_fert_2015 = df_fert.loc['2015']\n",
    "df_life_exp_2015 = df_life_exp.loc['2015']\n",
    "\n",
    "### Task 2.1: Resetting Index\n",
    "df_fert_2015 = df_fert_2015.reset_index()\n",
    "df_life_exp_2015 = df_life_exp_2015.reset_index()\n",
    "\n",
    "df_fert_2015.columns = ['country', 'fertility']\n",
    "df_life_exp_2015.columns = ['country', 'life_exp']\n",
    "\n",
    "### Task 2.2: Merging the data\n",
    "df_fert_2015 = df_fert_2015.merge(df_life_exp_2015, on='country')\n",
    "df_fert_2015 = df_fert_2015.set_index('country')\n",
    "\n",
    "df_fert_2015\n"
   ]
  },
  {
   "cell_type": "markdown",
   "metadata": {},
   "source": [
    "Step 4\n",
    "Remove all rows with missing values."
   ]
  },
  {
   "cell_type": "code",
   "execution_count": 35,
   "metadata": {},
   "outputs": [],
   "source": [
    "### Task 4: Remove rows with missing values\n",
    "df_pop = df_pop.dropna()\n",
    "df_life_exp = df_life_exp.dropna()\n",
    "df_fert = df_fert.dropna()\n"
   ]
  },
  {
   "cell_type": "markdown",
   "metadata": {},
   "source": [
    "Step 5\n",
    "Draw a scatterplot of fertility over life expectancy in 2015."
   ]
  },
  {
   "cell_type": "code",
   "execution_count": 37,
   "metadata": {},
   "outputs": [
    {
     "data": {
      "text/plain": [
       "<AxesSubplot:title={'center':'Fertility vs Life Expectancy in 2015'}, xlabel='fertility', ylabel='life_exp'>"
      ]
     },
     "execution_count": 37,
     "metadata": {},
     "output_type": "execute_result"
    },
    {
     "data": {
      "image/png": "[encoded data removed]",
      "text/plain": [
       "<Figure size 720x720 with 1 Axes>"
      ]
     },
     "metadata": {
      "needs_background": "light"
     },
     "output_type": "display_data"
    }
   ],
   "source": [
    "###Task 5: Create a scatterplot of fertility over life expectancy in 2015\n",
    "df_fert_2015.plot.scatter(x='fertility', y='life_exp', figsize=(10, 10), title='Fertility vs Life Expectancy in 2015')"
   ]
  },
  {
   "cell_type": "code",
   "execution_count": null,
   "metadata": {},
   "outputs": [],
   "source": []
  }
 ],
 "metadata": {
  "kernelspec": {
   "display_name": "Python 3.9.12 ('base')",
   "language": "python",
   "name": "python3"
  },
  "language_info": {
   "codemirror_mode": {
    "name": "ipython",
    "version": 3
   },
   "file_extension": ".py",
   "mimetype": "text/x-python",
   "name": "python",
   "nbconvert_exporter": "python",
   "pygments_lexer": "ipython3",
   "version": "3.9.12"
  },
  "orig_nbformat": 4,
  "vscode": {
   "interpreter": {
    "hash": "2df185b1432680a11b79cfd97c9c945638b27c6d64268ee82afafd12257a2c4d"
   }
  }
 },
 "nbformat": 4,
 "nbformat_minor": 2
}
